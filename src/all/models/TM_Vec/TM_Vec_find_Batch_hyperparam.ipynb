{
 "cells": [
  {
   "cell_type": "code",
   "execution_count": 14,
   "metadata": {},
   "outputs": [
    {
     "name": "stdout",
     "output_type": "stream",
     "text": [
      "Using device: cuda:0\n",
      "loading model\n"
     ]
    },
    {
     "name": "stderr",
     "output_type": "stream",
     "text": [
      "Lightning automatically upgraded your loaded checkpoint from v1.5.8 to v2.3.2. To apply the upgrade to your files permanently, run `python -m pytorch_lightning.utilities.upgrade_checkpoint data/Dataset/weights/TM_Vec/tm_vec_cath_model.ckpt`\n",
      "Embedding sequences: 100%|██████████| 6711/6711 [04:04<00:00, 27.48it/s]\n"
     ]
    },
    {
     "name": "stdout",
     "output_type": "stream",
     "text": [
      "Tested max_residues=1, max_batch=1, time=244.25 seconds\n",
      "loading model\n"
     ]
    },
    {
     "name": "stderr",
     "output_type": "stream",
     "text": [
      "Lightning automatically upgraded your loaded checkpoint from v1.5.8 to v2.3.2. To apply the upgrade to your files permanently, run `python -m pytorch_lightning.utilities.upgrade_checkpoint data/Dataset/weights/TM_Vec/tm_vec_cath_model.ckpt`\n",
      "Embedding sequences: 100%|██████████| 6711/6711 [04:01<00:00, 27.74it/s]\n"
     ]
    },
    {
     "name": "stdout",
     "output_type": "stream",
     "text": [
      "Tested max_residues=1, max_batch=64, time=241.90 seconds\n",
      "loading model\n"
     ]
    },
    {
     "name": "stderr",
     "output_type": "stream",
     "text": [
      "Lightning automatically upgraded your loaded checkpoint from v1.5.8 to v2.3.2. To apply the upgrade to your files permanently, run `python -m pytorch_lightning.utilities.upgrade_checkpoint data/Dataset/weights/TM_Vec/tm_vec_cath_model.ckpt`\n",
      "Embedding sequences: 100%|██████████| 6711/6711 [04:00<00:00, 27.90it/s]\n"
     ]
    },
    {
     "name": "stdout",
     "output_type": "stream",
     "text": [
      "Tested max_residues=1, max_batch=4096, time=240.50 seconds\n",
      "loading model\n"
     ]
    },
    {
     "name": "stderr",
     "output_type": "stream",
     "text": [
      "Lightning automatically upgraded your loaded checkpoint from v1.5.8 to v2.3.2. To apply the upgrade to your files permanently, run `python -m pytorch_lightning.utilities.upgrade_checkpoint data/Dataset/weights/TM_Vec/tm_vec_cath_model.ckpt`\n",
      "Embedding sequences: 100%|██████████| 6711/6711 [03:50<00:00, 29.17it/s]\n"
     ]
    },
    {
     "name": "stdout",
     "output_type": "stream",
     "text": [
      "Tested max_residues=1, max_batch=262144, time=230.07 seconds\n",
      "loading model\n"
     ]
    },
    {
     "name": "stderr",
     "output_type": "stream",
     "text": [
      "Lightning automatically upgraded your loaded checkpoint from v1.5.8 to v2.3.2. To apply the upgrade to your files permanently, run `python -m pytorch_lightning.utilities.upgrade_checkpoint data/Dataset/weights/TM_Vec/tm_vec_cath_model.ckpt`\n",
      "Embedding sequences: 100%|██████████| 6711/6711 [03:59<00:00, 27.99it/s]\n"
     ]
    },
    {
     "name": "stdout",
     "output_type": "stream",
     "text": [
      "Tested max_residues=1, max_batch=16777216, time=239.73 seconds\n",
      "loading model\n"
     ]
    },
    {
     "name": "stderr",
     "output_type": "stream",
     "text": [
      "Lightning automatically upgraded your loaded checkpoint from v1.5.8 to v2.3.2. To apply the upgrade to your files permanently, run `python -m pytorch_lightning.utilities.upgrade_checkpoint data/Dataset/weights/TM_Vec/tm_vec_cath_model.ckpt`\n",
      "Embedding sequences: 100%|██████████| 6711/6711 [03:59<00:00, 28.01it/s]\n"
     ]
    },
    {
     "name": "stdout",
     "output_type": "stream",
     "text": [
      "Tested max_residues=1, max_batch=1073741824, time=239.59 seconds\n",
      "loading model\n"
     ]
    },
    {
     "name": "stderr",
     "output_type": "stream",
     "text": [
      "Lightning automatically upgraded your loaded checkpoint from v1.5.8 to v2.3.2. To apply the upgrade to your files permanently, run `python -m pytorch_lightning.utilities.upgrade_checkpoint data/Dataset/weights/TM_Vec/tm_vec_cath_model.ckpt`\n",
      "Embedding sequences: 100%|██████████| 6711/6711 [03:49<00:00, 29.22it/s]\n"
     ]
    },
    {
     "name": "stdout",
     "output_type": "stream",
     "text": [
      "Tested max_residues=1, max_batch=68719476736, time=229.66 seconds\n",
      "loading model\n"
     ]
    },
    {
     "name": "stderr",
     "output_type": "stream",
     "text": [
      "Lightning automatically upgraded your loaded checkpoint from v1.5.8 to v2.3.2. To apply the upgrade to your files permanently, run `python -m pytorch_lightning.utilities.upgrade_checkpoint data/Dataset/weights/TM_Vec/tm_vec_cath_model.ckpt`\n",
      "Embedding sequences: 100%|██████████| 6711/6711 [03:49<00:00, 29.22it/s]\n"
     ]
    },
    {
     "name": "stdout",
     "output_type": "stream",
     "text": [
      "Tested max_residues=64, max_batch=1, time=229.67 seconds\n",
      "loading model\n"
     ]
    },
    {
     "name": "stderr",
     "output_type": "stream",
     "text": [
      "Lightning automatically upgraded your loaded checkpoint from v1.5.8 to v2.3.2. To apply the upgrade to your files permanently, run `python -m pytorch_lightning.utilities.upgrade_checkpoint data/Dataset/weights/TM_Vec/tm_vec_cath_model.ckpt`\n",
      "Embedding sequences: 100%|██████████| 6711/6711 [03:50<00:00, 29.12it/s]\n"
     ]
    },
    {
     "name": "stdout",
     "output_type": "stream",
     "text": [
      "Tested max_residues=64, max_batch=64, time=230.50 seconds\n",
      "loading model\n"
     ]
    },
    {
     "name": "stderr",
     "output_type": "stream",
     "text": [
      "Lightning automatically upgraded your loaded checkpoint from v1.5.8 to v2.3.2. To apply the upgrade to your files permanently, run `python -m pytorch_lightning.utilities.upgrade_checkpoint data/Dataset/weights/TM_Vec/tm_vec_cath_model.ckpt`\n",
      "Embedding sequences: 100%|██████████| 6711/6711 [03:50<00:00, 29.10it/s]\n"
     ]
    },
    {
     "name": "stdout",
     "output_type": "stream",
     "text": [
      "Tested max_residues=64, max_batch=4096, time=230.59 seconds\n",
      "loading model\n"
     ]
    },
    {
     "name": "stderr",
     "output_type": "stream",
     "text": [
      "Lightning automatically upgraded your loaded checkpoint from v1.5.8 to v2.3.2. To apply the upgrade to your files permanently, run `python -m pytorch_lightning.utilities.upgrade_checkpoint data/Dataset/weights/TM_Vec/tm_vec_cath_model.ckpt`\n",
      "Embedding sequences: 100%|██████████| 6711/6711 [03:50<00:00, 29.17it/s]\n"
     ]
    },
    {
     "name": "stdout",
     "output_type": "stream",
     "text": [
      "Tested max_residues=64, max_batch=262144, time=230.09 seconds\n",
      "loading model\n"
     ]
    },
    {
     "name": "stderr",
     "output_type": "stream",
     "text": [
      "Lightning automatically upgraded your loaded checkpoint from v1.5.8 to v2.3.2. To apply the upgrade to your files permanently, run `python -m pytorch_lightning.utilities.upgrade_checkpoint data/Dataset/weights/TM_Vec/tm_vec_cath_model.ckpt`\n",
      "Embedding sequences: 100%|██████████| 6711/6711 [03:50<00:00, 29.13it/s]\n"
     ]
    },
    {
     "name": "stdout",
     "output_type": "stream",
     "text": [
      "Tested max_residues=64, max_batch=16777216, time=230.39 seconds\n",
      "loading model\n"
     ]
    },
    {
     "name": "stderr",
     "output_type": "stream",
     "text": [
      "Lightning automatically upgraded your loaded checkpoint from v1.5.8 to v2.3.2. To apply the upgrade to your files permanently, run `python -m pytorch_lightning.utilities.upgrade_checkpoint data/Dataset/weights/TM_Vec/tm_vec_cath_model.ckpt`\n",
      "Embedding sequences: 100%|██████████| 6711/6711 [03:50<00:00, 29.07it/s]\n"
     ]
    },
    {
     "name": "stdout",
     "output_type": "stream",
     "text": [
      "Tested max_residues=64, max_batch=1073741824, time=230.83 seconds\n",
      "loading model\n"
     ]
    },
    {
     "name": "stderr",
     "output_type": "stream",
     "text": [
      "Lightning automatically upgraded your loaded checkpoint from v1.5.8 to v2.3.2. To apply the upgrade to your files permanently, run `python -m pytorch_lightning.utilities.upgrade_checkpoint data/Dataset/weights/TM_Vec/tm_vec_cath_model.ckpt`\n",
      "Embedding sequences: 100%|██████████| 6711/6711 [03:51<00:00, 29.05it/s]\n"
     ]
    },
    {
     "name": "stdout",
     "output_type": "stream",
     "text": [
      "Tested max_residues=64, max_batch=68719476736, time=231.02 seconds\n",
      "loading model\n"
     ]
    },
    {
     "name": "stderr",
     "output_type": "stream",
     "text": [
      "Lightning automatically upgraded your loaded checkpoint from v1.5.8 to v2.3.2. To apply the upgrade to your files permanently, run `python -m pytorch_lightning.utilities.upgrade_checkpoint data/Dataset/weights/TM_Vec/tm_vec_cath_model.ckpt`\n",
      "Embedding sequences: 100%|██████████| 6711/6711 [04:04<00:00, 27.44it/s]\n"
     ]
    },
    {
     "name": "stdout",
     "output_type": "stream",
     "text": [
      "Tested max_residues=4096, max_batch=1, time=244.56 seconds\n",
      "loading model\n"
     ]
    },
    {
     "name": "stderr",
     "output_type": "stream",
     "text": [
      "Lightning automatically upgraded your loaded checkpoint from v1.5.8 to v2.3.2. To apply the upgrade to your files permanently, run `python -m pytorch_lightning.utilities.upgrade_checkpoint data/Dataset/weights/TM_Vec/tm_vec_cath_model.ckpt`\n",
      "Embedding sequences: 100%|██████████| 6711/6711 [03:54<00:00, 28.62it/s]\n"
     ]
    },
    {
     "name": "stdout",
     "output_type": "stream",
     "text": [
      "Tested max_residues=4096, max_batch=64, time=234.47 seconds\n",
      "loading model\n"
     ]
    },
    {
     "name": "stderr",
     "output_type": "stream",
     "text": [
      "Lightning automatically upgraded your loaded checkpoint from v1.5.8 to v2.3.2. To apply the upgrade to your files permanently, run `python -m pytorch_lightning.utilities.upgrade_checkpoint data/Dataset/weights/TM_Vec/tm_vec_cath_model.ckpt`\n",
      "Embedding sequences: 100%|██████████| 6711/6711 [03:48<00:00, 29.38it/s]\n"
     ]
    },
    {
     "name": "stdout",
     "output_type": "stream",
     "text": [
      "Tested max_residues=4096, max_batch=4096, time=228.42 seconds\n",
      "loading model\n"
     ]
    },
    {
     "name": "stderr",
     "output_type": "stream",
     "text": [
      "Lightning automatically upgraded your loaded checkpoint from v1.5.8 to v2.3.2. To apply the upgrade to your files permanently, run `python -m pytorch_lightning.utilities.upgrade_checkpoint data/Dataset/weights/TM_Vec/tm_vec_cath_model.ckpt`\n",
      "Embedding sequences: 100%|██████████| 6711/6711 [03:49<00:00, 29.30it/s]\n"
     ]
    },
    {
     "name": "stdout",
     "output_type": "stream",
     "text": [
      "Tested max_residues=4096, max_batch=262144, time=229.07 seconds\n",
      "loading model\n"
     ]
    },
    {
     "name": "stderr",
     "output_type": "stream",
     "text": [
      "Lightning automatically upgraded your loaded checkpoint from v1.5.8 to v2.3.2. To apply the upgrade to your files permanently, run `python -m pytorch_lightning.utilities.upgrade_checkpoint data/Dataset/weights/TM_Vec/tm_vec_cath_model.ckpt`\n",
      "Embedding sequences: 100%|██████████| 6711/6711 [03:49<00:00, 29.22it/s]\n"
     ]
    },
    {
     "name": "stdout",
     "output_type": "stream",
     "text": [
      "Tested max_residues=4096, max_batch=16777216, time=229.70 seconds\n",
      "loading model\n"
     ]
    },
    {
     "name": "stderr",
     "output_type": "stream",
     "text": [
      "Lightning automatically upgraded your loaded checkpoint from v1.5.8 to v2.3.2. To apply the upgrade to your files permanently, run `python -m pytorch_lightning.utilities.upgrade_checkpoint data/Dataset/weights/TM_Vec/tm_vec_cath_model.ckpt`\n",
      "Embedding sequences: 100%|██████████| 6711/6711 [03:48<00:00, 29.33it/s]\n"
     ]
    },
    {
     "name": "stdout",
     "output_type": "stream",
     "text": [
      "Tested max_residues=4096, max_batch=1073741824, time=228.84 seconds\n",
      "loading model\n"
     ]
    },
    {
     "name": "stderr",
     "output_type": "stream",
     "text": [
      "Lightning automatically upgraded your loaded checkpoint from v1.5.8 to v2.3.2. To apply the upgrade to your files permanently, run `python -m pytorch_lightning.utilities.upgrade_checkpoint data/Dataset/weights/TM_Vec/tm_vec_cath_model.ckpt`\n",
      "Embedding sequences: 100%|██████████| 6711/6711 [03:49<00:00, 29.29it/s]\n"
     ]
    },
    {
     "name": "stdout",
     "output_type": "stream",
     "text": [
      "Tested max_residues=4096, max_batch=68719476736, time=229.16 seconds\n",
      "loading model\n"
     ]
    },
    {
     "name": "stderr",
     "output_type": "stream",
     "text": [
      "Lightning automatically upgraded your loaded checkpoint from v1.5.8 to v2.3.2. To apply the upgrade to your files permanently, run `python -m pytorch_lightning.utilities.upgrade_checkpoint data/Dataset/weights/TM_Vec/tm_vec_cath_model.ckpt`\n",
      "Embedding sequences: 100%|██████████| 6711/6711 [03:50<00:00, 29.17it/s]\n"
     ]
    },
    {
     "name": "stdout",
     "output_type": "stream",
     "text": [
      "Tested max_residues=262144, max_batch=1, time=230.08 seconds\n",
      "loading model\n"
     ]
    },
    {
     "name": "stderr",
     "output_type": "stream",
     "text": [
      "Lightning automatically upgraded your loaded checkpoint from v1.5.8 to v2.3.2. To apply the upgrade to your files permanently, run `python -m pytorch_lightning.utilities.upgrade_checkpoint data/Dataset/weights/TM_Vec/tm_vec_cath_model.ckpt`\n",
      "Embedding sequences: 100%|██████████| 6711/6711 [03:48<00:00, 29.37it/s]\n"
     ]
    },
    {
     "name": "stdout",
     "output_type": "stream",
     "text": [
      "Tested max_residues=262144, max_batch=64, time=228.46 seconds\n",
      "loading model\n"
     ]
    },
    {
     "name": "stderr",
     "output_type": "stream",
     "text": [
      "Lightning automatically upgraded your loaded checkpoint from v1.5.8 to v2.3.2. To apply the upgrade to your files permanently, run `python -m pytorch_lightning.utilities.upgrade_checkpoint data/Dataset/weights/TM_Vec/tm_vec_cath_model.ckpt`\n",
      "Embedding sequences: 100%|██████████| 6711/6711 [03:48<00:00, 29.40it/s]\n"
     ]
    },
    {
     "name": "stdout",
     "output_type": "stream",
     "text": [
      "Tested max_residues=262144, max_batch=4096, time=228.23 seconds\n",
      "loading model\n"
     ]
    },
    {
     "name": "stderr",
     "output_type": "stream",
     "text": [
      "Lightning automatically upgraded your loaded checkpoint from v1.5.8 to v2.3.2. To apply the upgrade to your files permanently, run `python -m pytorch_lightning.utilities.upgrade_checkpoint data/Dataset/weights/TM_Vec/tm_vec_cath_model.ckpt`\n",
      "Embedding sequences: 100%|██████████| 6711/6711 [03:49<00:00, 29.24it/s]\n"
     ]
    },
    {
     "name": "stdout",
     "output_type": "stream",
     "text": [
      "Tested max_residues=262144, max_batch=262144, time=229.55 seconds\n",
      "loading model\n"
     ]
    },
    {
     "name": "stderr",
     "output_type": "stream",
     "text": [
      "Lightning automatically upgraded your loaded checkpoint from v1.5.8 to v2.3.2. To apply the upgrade to your files permanently, run `python -m pytorch_lightning.utilities.upgrade_checkpoint data/Dataset/weights/TM_Vec/tm_vec_cath_model.ckpt`\n",
      "Embedding sequences: 100%|██████████| 6711/6711 [03:47<00:00, 29.45it/s]\n"
     ]
    },
    {
     "name": "stdout",
     "output_type": "stream",
     "text": [
      "Tested max_residues=262144, max_batch=16777216, time=227.85 seconds\n",
      "loading model\n"
     ]
    },
    {
     "name": "stderr",
     "output_type": "stream",
     "text": [
      "Lightning automatically upgraded your loaded checkpoint from v1.5.8 to v2.3.2. To apply the upgrade to your files permanently, run `python -m pytorch_lightning.utilities.upgrade_checkpoint data/Dataset/weights/TM_Vec/tm_vec_cath_model.ckpt`\n",
      "Embedding sequences: 100%|██████████| 6711/6711 [03:49<00:00, 29.27it/s]\n"
     ]
    },
    {
     "name": "stdout",
     "output_type": "stream",
     "text": [
      "Tested max_residues=262144, max_batch=1073741824, time=229.31 seconds\n",
      "loading model\n"
     ]
    },
    {
     "name": "stderr",
     "output_type": "stream",
     "text": [
      "Lightning automatically upgraded your loaded checkpoint from v1.5.8 to v2.3.2. To apply the upgrade to your files permanently, run `python -m pytorch_lightning.utilities.upgrade_checkpoint data/Dataset/weights/TM_Vec/tm_vec_cath_model.ckpt`\n",
      "Embedding sequences: 100%|██████████| 6711/6711 [03:47<00:00, 29.47it/s]\n"
     ]
    },
    {
     "name": "stdout",
     "output_type": "stream",
     "text": [
      "Tested max_residues=262144, max_batch=68719476736, time=227.70 seconds\n",
      "loading model\n"
     ]
    },
    {
     "name": "stderr",
     "output_type": "stream",
     "text": [
      "Lightning automatically upgraded your loaded checkpoint from v1.5.8 to v2.3.2. To apply the upgrade to your files permanently, run `python -m pytorch_lightning.utilities.upgrade_checkpoint data/Dataset/weights/TM_Vec/tm_vec_cath_model.ckpt`\n",
      "Embedding sequences: 100%|██████████| 6711/6711 [03:50<00:00, 29.14it/s]\n"
     ]
    },
    {
     "name": "stdout",
     "output_type": "stream",
     "text": [
      "Tested max_residues=16777216, max_batch=1, time=230.31 seconds\n",
      "loading model\n"
     ]
    },
    {
     "name": "stderr",
     "output_type": "stream",
     "text": [
      "Lightning automatically upgraded your loaded checkpoint from v1.5.8 to v2.3.2. To apply the upgrade to your files permanently, run `python -m pytorch_lightning.utilities.upgrade_checkpoint data/Dataset/weights/TM_Vec/tm_vec_cath_model.ckpt`\n",
      "Embedding sequences: 100%|██████████| 6711/6711 [03:47<00:00, 29.44it/s]\n"
     ]
    },
    {
     "name": "stdout",
     "output_type": "stream",
     "text": [
      "Tested max_residues=16777216, max_batch=64, time=227.98 seconds\n",
      "loading model\n"
     ]
    },
    {
     "name": "stderr",
     "output_type": "stream",
     "text": [
      "Lightning automatically upgraded your loaded checkpoint from v1.5.8 to v2.3.2. To apply the upgrade to your files permanently, run `python -m pytorch_lightning.utilities.upgrade_checkpoint data/Dataset/weights/TM_Vec/tm_vec_cath_model.ckpt`\n",
      "Embedding sequences: 100%|██████████| 6711/6711 [03:49<00:00, 29.20it/s]   \n"
     ]
    },
    {
     "name": "stdout",
     "output_type": "stream",
     "text": [
      "Tested max_residues=16777216, max_batch=4096, time=229.84 seconds\n",
      "loading model\n"
     ]
    },
    {
     "name": "stderr",
     "output_type": "stream",
     "text": [
      "Lightning automatically upgraded your loaded checkpoint from v1.5.8 to v2.3.2. To apply the upgrade to your files permanently, run `python -m pytorch_lightning.utilities.upgrade_checkpoint data/Dataset/weights/TM_Vec/tm_vec_cath_model.ckpt`\n",
      "Embedding sequences: 100%|██████████| 6711/6711 [03:48<00:00, 29.39it/s]   \n"
     ]
    },
    {
     "name": "stdout",
     "output_type": "stream",
     "text": [
      "Tested max_residues=16777216, max_batch=262144, time=228.33 seconds\n",
      "loading model\n"
     ]
    },
    {
     "name": "stderr",
     "output_type": "stream",
     "text": [
      "Lightning automatically upgraded your loaded checkpoint from v1.5.8 to v2.3.2. To apply the upgrade to your files permanently, run `python -m pytorch_lightning.utilities.upgrade_checkpoint data/Dataset/weights/TM_Vec/tm_vec_cath_model.ckpt`\n",
      "Embedding sequences: 100%|██████████| 6711/6711 [03:49<00:00, 29.21it/s]   \n"
     ]
    },
    {
     "name": "stdout",
     "output_type": "stream",
     "text": [
      "Tested max_residues=16777216, max_batch=16777216, time=229.73 seconds\n",
      "loading model\n"
     ]
    },
    {
     "name": "stderr",
     "output_type": "stream",
     "text": [
      "Lightning automatically upgraded your loaded checkpoint from v1.5.8 to v2.3.2. To apply the upgrade to your files permanently, run `python -m pytorch_lightning.utilities.upgrade_checkpoint data/Dataset/weights/TM_Vec/tm_vec_cath_model.ckpt`\n",
      "Embedding sequences: 100%|██████████| 6711/6711 [03:48<00:00, 29.39it/s]   \n"
     ]
    },
    {
     "name": "stdout",
     "output_type": "stream",
     "text": [
      "Tested max_residues=16777216, max_batch=1073741824, time=228.31 seconds\n",
      "loading model\n"
     ]
    },
    {
     "name": "stderr",
     "output_type": "stream",
     "text": [
      "Lightning automatically upgraded your loaded checkpoint from v1.5.8 to v2.3.2. To apply the upgrade to your files permanently, run `python -m pytorch_lightning.utilities.upgrade_checkpoint data/Dataset/weights/TM_Vec/tm_vec_cath_model.ckpt`\n",
      "Embedding sequences: 100%|██████████| 6711/6711 [03:50<00:00, 29.07it/s]   \n"
     ]
    },
    {
     "name": "stdout",
     "output_type": "stream",
     "text": [
      "Tested max_residues=16777216, max_batch=68719476736, time=230.83 seconds\n",
      "loading model\n"
     ]
    },
    {
     "name": "stderr",
     "output_type": "stream",
     "text": [
      "Lightning automatically upgraded your loaded checkpoint from v1.5.8 to v2.3.2. To apply the upgrade to your files permanently, run `python -m pytorch_lightning.utilities.upgrade_checkpoint data/Dataset/weights/TM_Vec/tm_vec_cath_model.ckpt`\n",
      "Embedding sequences: 100%|██████████| 6711/6711 [03:50<00:00, 29.11it/s]\n"
     ]
    },
    {
     "name": "stdout",
     "output_type": "stream",
     "text": [
      "Tested max_residues=1073741824, max_batch=1, time=230.51 seconds\n",
      "loading model\n"
     ]
    },
    {
     "name": "stderr",
     "output_type": "stream",
     "text": [
      "Lightning automatically upgraded your loaded checkpoint from v1.5.8 to v2.3.2. To apply the upgrade to your files permanently, run `python -m pytorch_lightning.utilities.upgrade_checkpoint data/Dataset/weights/TM_Vec/tm_vec_cath_model.ckpt`\n",
      "Embedding sequences: 100%|██████████| 6711/6711 [03:48<00:00, 29.32it/s]\n"
     ]
    },
    {
     "name": "stdout",
     "output_type": "stream",
     "text": [
      "Tested max_residues=1073741824, max_batch=64, time=228.87 seconds\n",
      "loading model\n"
     ]
    },
    {
     "name": "stderr",
     "output_type": "stream",
     "text": [
      "Lightning automatically upgraded your loaded checkpoint from v1.5.8 to v2.3.2. To apply the upgrade to your files permanently, run `python -m pytorch_lightning.utilities.upgrade_checkpoint data/Dataset/weights/TM_Vec/tm_vec_cath_model.ckpt`\n",
      "Embedding sequences: 100%|██████████| 6711/6711 [03:48<00:00, 29.43it/s]   \n"
     ]
    },
    {
     "name": "stdout",
     "output_type": "stream",
     "text": [
      "Tested max_residues=1073741824, max_batch=4096, time=228.02 seconds\n",
      "loading model\n"
     ]
    },
    {
     "name": "stderr",
     "output_type": "stream",
     "text": [
      "Lightning automatically upgraded your loaded checkpoint from v1.5.8 to v2.3.2. To apply the upgrade to your files permanently, run `python -m pytorch_lightning.utilities.upgrade_checkpoint data/Dataset/weights/TM_Vec/tm_vec_cath_model.ckpt`\n",
      "Embedding sequences: 100%|██████████| 6711/6711 [03:50<00:00, 29.17it/s]   \n"
     ]
    },
    {
     "name": "stdout",
     "output_type": "stream",
     "text": [
      "Tested max_residues=1073741824, max_batch=262144, time=230.09 seconds\n",
      "loading model\n"
     ]
    },
    {
     "name": "stderr",
     "output_type": "stream",
     "text": [
      "Lightning automatically upgraded your loaded checkpoint from v1.5.8 to v2.3.2. To apply the upgrade to your files permanently, run `python -m pytorch_lightning.utilities.upgrade_checkpoint data/Dataset/weights/TM_Vec/tm_vec_cath_model.ckpt`\n",
      "Embedding sequences: 100%|██████████| 6711/6711 [03:51<00:00, 29.01it/s]   \n"
     ]
    },
    {
     "name": "stdout",
     "output_type": "stream",
     "text": [
      "Tested max_residues=1073741824, max_batch=16777216, time=231.36 seconds\n",
      "loading model\n"
     ]
    },
    {
     "name": "stderr",
     "output_type": "stream",
     "text": [
      "Lightning automatically upgraded your loaded checkpoint from v1.5.8 to v2.3.2. To apply the upgrade to your files permanently, run `python -m pytorch_lightning.utilities.upgrade_checkpoint data/Dataset/weights/TM_Vec/tm_vec_cath_model.ckpt`\n",
      "Embedding sequences: 100%|██████████| 6711/6711 [03:48<00:00, 29.40it/s]   \n"
     ]
    },
    {
     "name": "stdout",
     "output_type": "stream",
     "text": [
      "Tested max_residues=1073741824, max_batch=1073741824, time=228.26 seconds\n",
      "loading model\n"
     ]
    },
    {
     "name": "stderr",
     "output_type": "stream",
     "text": [
      "Lightning automatically upgraded your loaded checkpoint from v1.5.8 to v2.3.2. To apply the upgrade to your files permanently, run `python -m pytorch_lightning.utilities.upgrade_checkpoint data/Dataset/weights/TM_Vec/tm_vec_cath_model.ckpt`\n",
      "Embedding sequences: 100%|██████████| 6711/6711 [03:50<00:00, 29.14it/s]   \n"
     ]
    },
    {
     "name": "stdout",
     "output_type": "stream",
     "text": [
      "Tested max_residues=1073741824, max_batch=68719476736, time=230.30 seconds\n",
      "loading model\n"
     ]
    },
    {
     "name": "stderr",
     "output_type": "stream",
     "text": [
      "Lightning automatically upgraded your loaded checkpoint from v1.5.8 to v2.3.2. To apply the upgrade to your files permanently, run `python -m pytorch_lightning.utilities.upgrade_checkpoint data/Dataset/weights/TM_Vec/tm_vec_cath_model.ckpt`\n",
      "Embedding sequences: 100%|██████████| 6711/6711 [03:50<00:00, 29.07it/s]\n"
     ]
    },
    {
     "name": "stdout",
     "output_type": "stream",
     "text": [
      "Tested max_residues=68719476736, max_batch=1, time=230.89 seconds\n",
      "loading model\n"
     ]
    },
    {
     "name": "stderr",
     "output_type": "stream",
     "text": [
      "Lightning automatically upgraded your loaded checkpoint from v1.5.8 to v2.3.2. To apply the upgrade to your files permanently, run `python -m pytorch_lightning.utilities.upgrade_checkpoint data/Dataset/weights/TM_Vec/tm_vec_cath_model.ckpt`\n",
      "Embedding sequences: 100%|██████████| 6711/6711 [03:51<00:00, 28.94it/s]\n"
     ]
    },
    {
     "name": "stdout",
     "output_type": "stream",
     "text": [
      "Tested max_residues=68719476736, max_batch=64, time=231.92 seconds\n",
      "loading model\n"
     ]
    },
    {
     "name": "stderr",
     "output_type": "stream",
     "text": [
      "Lightning automatically upgraded your loaded checkpoint from v1.5.8 to v2.3.2. To apply the upgrade to your files permanently, run `python -m pytorch_lightning.utilities.upgrade_checkpoint data/Dataset/weights/TM_Vec/tm_vec_cath_model.ckpt`\n",
      "Embedding sequences: 100%|██████████| 6711/6711 [04:02<00:00, 27.67it/s]   \n"
     ]
    },
    {
     "name": "stdout",
     "output_type": "stream",
     "text": [
      "Tested max_residues=68719476736, max_batch=4096, time=242.56 seconds\n",
      "loading model\n"
     ]
    },
    {
     "name": "stderr",
     "output_type": "stream",
     "text": [
      "Lightning automatically upgraded your loaded checkpoint from v1.5.8 to v2.3.2. To apply the upgrade to your files permanently, run `python -m pytorch_lightning.utilities.upgrade_checkpoint data/Dataset/weights/TM_Vec/tm_vec_cath_model.ckpt`\n",
      "Embedding sequences: 100%|██████████| 6711/6711 [03:56<00:00, 28.37it/s]   \n"
     ]
    },
    {
     "name": "stdout",
     "output_type": "stream",
     "text": [
      "Tested max_residues=68719476736, max_batch=262144, time=236.55 seconds\n",
      "loading model\n"
     ]
    },
    {
     "name": "stderr",
     "output_type": "stream",
     "text": [
      "Lightning automatically upgraded your loaded checkpoint from v1.5.8 to v2.3.2. To apply the upgrade to your files permanently, run `python -m pytorch_lightning.utilities.upgrade_checkpoint data/Dataset/weights/TM_Vec/tm_vec_cath_model.ckpt`\n",
      "Embedding sequences: 100%|██████████| 6711/6711 [03:50<00:00, 29.08it/s]   \n"
     ]
    },
    {
     "name": "stdout",
     "output_type": "stream",
     "text": [
      "Tested max_residues=68719476736, max_batch=16777216, time=230.80 seconds\n",
      "loading model\n"
     ]
    },
    {
     "name": "stderr",
     "output_type": "stream",
     "text": [
      "Lightning automatically upgraded your loaded checkpoint from v1.5.8 to v2.3.2. To apply the upgrade to your files permanently, run `python -m pytorch_lightning.utilities.upgrade_checkpoint data/Dataset/weights/TM_Vec/tm_vec_cath_model.ckpt`\n",
      "Embedding sequences: 100%|██████████| 6711/6711 [03:49<00:00, 29.23it/s]   \n"
     ]
    },
    {
     "name": "stdout",
     "output_type": "stream",
     "text": [
      "Tested max_residues=68719476736, max_batch=1073741824, time=229.56 seconds\n",
      "loading model\n"
     ]
    },
    {
     "name": "stderr",
     "output_type": "stream",
     "text": [
      "Lightning automatically upgraded your loaded checkpoint from v1.5.8 to v2.3.2. To apply the upgrade to your files permanently, run `python -m pytorch_lightning.utilities.upgrade_checkpoint data/Dataset/weights/TM_Vec/tm_vec_cath_model.ckpt`\n",
      "Embedding sequences: 100%|██████████| 6711/6711 [03:50<00:00, 29.12it/s]   "
     ]
    },
    {
     "name": "stdout",
     "output_type": "stream",
     "text": [
      "Tested max_residues=68719476736, max_batch=68719476736, time=230.45 seconds\n",
      "Best parameters: max_residues=262144, max_batch=68719476736 with time=227.70 seconds\n"
     ]
    },
    {
     "name": "stderr",
     "output_type": "stream",
     "text": [
      "\n"
     ]
    }
   ],
   "source": [
    "import time\n",
    "import torch\n",
    "import numpy as np\n",
    "import pandas as pd\n",
    "from transformers import T5EncoderModel, T5Tokenizer\n",
    "from tm_vec.embed_structure_model import trans_basic_block, trans_basic_block_Config\n",
    "from tqdm import tqdm\n",
    "import re\n",
    "import gc\n",
    "import os\n",
    "os.chdir('/home/ku76797/Documents/internship/Work/CATHe')\n",
    "\n",
    "if torch.cuda.is_available():\n",
    "    device = torch.device('cuda:0')\n",
    "elif torch.backends.mps.is_available():\n",
    "    device = torch.device('mps')\n",
    "else:\n",
    "    device = torch.device('cpu')\n",
    "print(\"Using device: {}\".format(device))\n",
    "\n",
    "def load_T5_model():\n",
    "    print(\"loading model\")\n",
    "    tokeniser = T5Tokenizer.from_pretrained(\"./data/Dataset/weights/ProtT5/prot_t5_xl_uniref50\", do_lower_case=False )\n",
    "    model = T5EncoderModel.from_pretrained(\"./data/Dataset/weights/ProtT5/prot_t5_xl_uniref50\")\n",
    "    gc.collect()\n",
    "    \n",
    "    device = torch.device('cuda:0' if torch.cuda.is_available() else 'cpu')\n",
    "    model = model.to(device)\n",
    "    model = model.eval()\n",
    "    \n",
    "    return model, tokeniser\n",
    "\n",
    "def read_csv(seq_path):\n",
    "    '''\n",
    "        Reads in CSV file containing sequences.\n",
    "        Returns a dictionary of sequences with IDs as keys.\n",
    "    '''\n",
    "    sequences = {}\n",
    "    df = pd.read_csv(seq_path)\n",
    "    for _ , row in df.iterrows():\n",
    "        sequences[str(row['Unnamed: 0'])] = row['Sequence']  # Ensure keys are strings\n",
    "    return sequences\n",
    "\n",
    "# Function to extract ProtTrans embedding for a sequence\n",
    "def featurize_prottrans(sequences, model, tokenizer, device):\n",
    "    sequences = [(\" \".join(seq)) for seq in sequences]\n",
    "    sequences = [re.sub(r\"[UZOB]\", \"X\", sequence) for sequence in sequences]\n",
    "    ids = tokenizer.batch_encode_plus(sequences, add_special_tokens=True, padding=\"longest\",)\n",
    "    input_ids = torch.tensor(ids['input_ids']).to(device)\n",
    "    attention_mask = torch.tensor(ids['attention_mask']).to(device)\n",
    "\n",
    "    with torch.no_grad():\n",
    "        embedding = model(input_ids=input_ids, attention_mask=attention_mask)\n",
    "    \n",
    "    embedding = embedding.last_hidden_state.cpu().numpy()\n",
    "\n",
    "    features = []\n",
    "    for seq_num in range(len(sequences)):\n",
    "        seq_len = (attention_mask[seq_num] == 1).sum()\n",
    "        seq_emd = embedding[seq_num][:seq_len - 1]\n",
    "        features.append(seq_emd)\n",
    "\n",
    "    prottrans_embedding = torch.tensor(features[0])\n",
    "    prottrans_embedding = torch.unsqueeze(prottrans_embedding, 0).to(device)\n",
    "\n",
    "    return prottrans_embedding\n",
    "\n",
    "# Embed a protein using tm_vec (takes as input a prottrans embedding)\n",
    "def embed_tm_vec(prottrans_embedding, model_deep, device):\n",
    "    padding = torch.zeros(prottrans_embedding.shape[0:2]).type(torch.BoolTensor).to(device)\n",
    "    tm_vec_embedding = model_deep(prottrans_embedding, src_mask=None, src_key_padding_mask=padding)\n",
    "\n",
    "    return tm_vec_embedding.cpu().detach().numpy()\n",
    "\n",
    "def encode(sequences, model_deep, model, tokenizer, device):\n",
    "    embed_all_sequences = []\n",
    "    for seq in sequences:\n",
    "        protrans_sequence = featurize_prottrans([seq], model, tokenizer, device)\n",
    "        if protrans_sequence is None:\n",
    "            print(\"\\033[91mError: Could not embed sequence\\033[0m\")\n",
    "            continue\n",
    "        embedded_sequence = embed_tm_vec(protrans_sequence, model_deep, device)\n",
    "        embed_all_sequences.append(embedded_sequence)\n",
    "    return np.concatenate(embed_all_sequences, axis=0)\n",
    "\n",
    "def get_embeddings(seq_path, emb_path, max_residues, max_seq_len, max_batch):\n",
    "\n",
    "    emb_dict = dict()\n",
    "\n",
    "    # Read in CSV\n",
    "    sequences_dict = read_csv(seq_path)\n",
    "    sequences = list(sequences_dict.values())\n",
    "    sequence_keys = list(sequences_dict.keys())\n",
    "    \n",
    "    model, tokeniser = load_T5_model()\n",
    "\n",
    "    # TM-Vec model paths\n",
    "    tm_vec_model_cpnt = \"./data/Dataset/weights/TM_Vec/tm_vec_cath_model.ckpt\"\n",
    "    tm_vec_model_config = \"./data/Dataset/weights/TM_Vec/tm_vec_cath_model_params.json\"\n",
    "\n",
    "    # Load the TM-Vec model\n",
    "    tm_vec_model_config = trans_basic_block_Config.from_json(tm_vec_model_config)\n",
    "    model_deep = trans_basic_block.load_from_checkpoint(tm_vec_model_cpnt, config=tm_vec_model_config)\n",
    "    model_deep = model_deep.to(device)\n",
    "    model_deep = model_deep.eval()\n",
    "\n",
    "    sorted_sequences_tuple = sorted(zip(sequence_keys, sequences), key=lambda x: len(x[1]), reverse=True)\n",
    "    \n",
    "    start = time.time()\n",
    "\n",
    "    batch = []\n",
    "    batch_keys = []\n",
    "    for seq_idx, (seq_key, seq) in enumerate(tqdm(sorted_sequences_tuple, desc=\"Embedding sequences\"), 1):\n",
    "        seq_len = len(seq)\n",
    "        batch.append(seq)\n",
    "        batch_keys.append(seq_key)\n",
    "\n",
    "        n_res_batch = sum([len(s) for s in batch]) + seq_len\n",
    "        if len(batch) >= max_batch or n_res_batch >= max_residues or seq_idx == len(sorted_sequences_tuple) or seq_len > max_seq_len:\n",
    "            embedded_batch = encode(batch, model_deep, model, tokeniser, device)\n",
    "            for i, seq_key in enumerate(batch_keys):\n",
    "                emb_dict[seq_key] = embedded_batch[i]\n",
    "            batch = []\n",
    "            batch_keys = []\n",
    "\n",
    "    end = time.time()\n",
    "\n",
    "    # sort created embedding dict\n",
    "    sorted_keys = sorted(emb_dict.keys())\n",
    "    sorted_embeddings = [emb_dict[key] for key in sorted_keys]\n",
    "    \n",
    "    np.savez(emb_path, sorted_embeddings)\n",
    "\n",
    "    total_time = end - start\n",
    "    return total_time\n",
    "\n",
    "def find_best_params(seq_path, emb_path, max_seq_len=3263):\n",
    "    max_residues_values = [2**i for i in range(0, 42, 6)]  \n",
    "    max_batch_values = [2**i for i in range(0, 42, 6)]  \n",
    "    \n",
    "    results = []\n",
    "    \n",
    "    for max_residues in max_residues_values:\n",
    "        for max_batch in max_batch_values:\n",
    "            try:\n",
    "                total_time = get_embeddings(seq_path, emb_path, max_residues, max_seq_len, max_batch)\n",
    "                results.append((max_residues, max_batch, total_time))\n",
    "                print(f\"Tested max_residues={max_residues}, max_batch={max_batch}, time={total_time:.2f} seconds\")\n",
    "            except MemoryError:\n",
    "                results.append((max_residues, max_batch, \"Memory Error\"))\n",
    "                print(f\"Memory Error for max_residues={max_residues}, max_batch={max_batch}\")\n",
    "            except Exception as e:\n",
    "                results.append((max_residues, max_batch, f\"Error: {e}\"))\n",
    "                print(f\"Failed max_residues={max_residues}, max_batch={max_batch} with error: {e}\")\n",
    "    \n",
    "    # Find the best parameters\n",
    "    valid_results = [result for result in results if isinstance(result[2], (int, float))]\n",
    "    if valid_results:\n",
    "        best_params = min(valid_results, key=lambda x: x[2])\n",
    "        print(f\"Best parameters: max_residues={best_params[0]}, max_batch={best_params[1]} with time={best_params[2]:.2f} seconds\")\n",
    "    else:\n",
    "        print(\"No valid parameter combinations found.\")\n",
    "    \n",
    "    return results, best_params if valid_results else None\n",
    "\n",
    "if __name__ == '__main__':\n",
    "    seq_path = \"./data/Dataset/csv/Val.csv\"\n",
    "    emb_path = \"./data/Dataset/embeddings/Val_TM_Vec_test.npz\"\n",
    "    \n",
    "    results, best_params = find_best_params(seq_path, emb_path)\n",
    "    \n",
    "    # Optionally, save the results to a file for later analysis\n",
    "    results_df = pd.DataFrame(results, columns=[\"max_residues\", \"max_batch\", \"time\"])\n",
    "    results_df.to_csv(\"./src/all/models/TM_Vec/embedding_time_results.csv\", index=False)\n"
   ]
  }
 ],
 "metadata": {
  "kernelspec": {
   "display_name": "myenv_2",
   "language": "python",
   "name": "python3"
  },
  "language_info": {
   "codemirror_mode": {
    "name": "ipython",
    "version": 3
   },
   "file_extension": ".py",
   "mimetype": "text/x-python",
   "name": "python",
   "nbconvert_exporter": "python",
   "pygments_lexer": "ipython3",
   "version": "3.9.19"
  }
 },
 "nbformat": 4,
 "nbformat_minor": 2
}
